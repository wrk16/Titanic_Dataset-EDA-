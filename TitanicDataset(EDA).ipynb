{
 "cells": [
  {
   "cell_type": "markdown",
   "id": "0586ea46",
   "metadata": {},
   "source": [
    "# EDA With Python and applying Logistic Regression\n"
   ]
  },
  {
   "cell_type": "markdown",
   "id": "dbcb59dd",
   "metadata": {},
   "source": [
    "Here, we will be working on Titanic Dataset from Kaggle. This is a quite famous dataset and very often used by student's first step towards Machnine Learning.\n",
    "\n",
    "In this we'll try to predict a classification-survival or deceased by implementing Logistic Regression in python for classification.\n",
    "\n",
    "The version of the Titanic Dataset is \"semi-cleaned\"."
   ]
  },
  {
   "cell_type": "code",
   "execution_count": 1,
   "id": "85d02327",
   "metadata": {},
   "outputs": [],
   "source": [
    "#starting by importing all the necessary python libraries\n",
    "import pandas as pd\n",
    "import numpy as np\n",
    "import matplotlib.pyplot as plt\n",
    "import seaborn as sb\n",
    "%matplotlib inline"
   ]
  },
  {
   "cell_type": "code",
   "execution_count": 2,
   "id": "10c2364e",
   "metadata": {},
   "outputs": [],
   "source": [
    "#read the dataset by using pandas\n",
    "train=pd.read_csv('titanic data_set_kaggle.csv')"
   ]
  },
  {
   "cell_type": "code",
   "execution_count": 3,
   "id": "5189bb9e",
   "metadata": {},
   "outputs": [
    {
     "data": {
      "text/html": [
       "<div>\n",
       "<style scoped>\n",
       "    .dataframe tbody tr th:only-of-type {\n",
       "        vertical-align: middle;\n",
       "    }\n",
       "\n",
       "    .dataframe tbody tr th {\n",
       "        vertical-align: top;\n",
       "    }\n",
       "\n",
       "    .dataframe thead th {\n",
       "        text-align: right;\n",
       "    }\n",
       "</style>\n",
       "<table border=\"1\" class=\"dataframe\">\n",
       "  <thead>\n",
       "    <tr style=\"text-align: right;\">\n",
       "      <th></th>\n",
       "      <th>PassengerId</th>\n",
       "      <th>Survived</th>\n",
       "      <th>Pclass</th>\n",
       "      <th>Name</th>\n",
       "      <th>Sex</th>\n",
       "      <th>Age</th>\n",
       "      <th>SibSp</th>\n",
       "      <th>Parch</th>\n",
       "      <th>Ticket</th>\n",
       "      <th>Fare</th>\n",
       "      <th>Cabin</th>\n",
       "      <th>Embarked</th>\n",
       "    </tr>\n",
       "  </thead>\n",
       "  <tbody>\n",
       "    <tr>\n",
       "      <th>0</th>\n",
       "      <td>1</td>\n",
       "      <td>0</td>\n",
       "      <td>3</td>\n",
       "      <td>Braund, Mr. Owen Harris</td>\n",
       "      <td>male</td>\n",
       "      <td>22.0</td>\n",
       "      <td>1</td>\n",
       "      <td>0</td>\n",
       "      <td>A/5 21171</td>\n",
       "      <td>7.2500</td>\n",
       "      <td>NaN</td>\n",
       "      <td>S</td>\n",
       "    </tr>\n",
       "    <tr>\n",
       "      <th>1</th>\n",
       "      <td>2</td>\n",
       "      <td>1</td>\n",
       "      <td>1</td>\n",
       "      <td>Cumings, Mrs. John Bradley (Florence Briggs Th...</td>\n",
       "      <td>female</td>\n",
       "      <td>38.0</td>\n",
       "      <td>1</td>\n",
       "      <td>0</td>\n",
       "      <td>PC 17599</td>\n",
       "      <td>71.2833</td>\n",
       "      <td>C85</td>\n",
       "      <td>C</td>\n",
       "    </tr>\n",
       "    <tr>\n",
       "      <th>2</th>\n",
       "      <td>3</td>\n",
       "      <td>1</td>\n",
       "      <td>3</td>\n",
       "      <td>Heikkinen, Miss. Laina</td>\n",
       "      <td>female</td>\n",
       "      <td>26.0</td>\n",
       "      <td>0</td>\n",
       "      <td>0</td>\n",
       "      <td>STON/O2. 3101282</td>\n",
       "      <td>7.9250</td>\n",
       "      <td>NaN</td>\n",
       "      <td>S</td>\n",
       "    </tr>\n",
       "    <tr>\n",
       "      <th>3</th>\n",
       "      <td>4</td>\n",
       "      <td>1</td>\n",
       "      <td>1</td>\n",
       "      <td>Futrelle, Mrs. Jacques Heath (Lily May Peel)</td>\n",
       "      <td>female</td>\n",
       "      <td>35.0</td>\n",
       "      <td>1</td>\n",
       "      <td>0</td>\n",
       "      <td>113803</td>\n",
       "      <td>53.1000</td>\n",
       "      <td>C123</td>\n",
       "      <td>S</td>\n",
       "    </tr>\n",
       "    <tr>\n",
       "      <th>4</th>\n",
       "      <td>5</td>\n",
       "      <td>0</td>\n",
       "      <td>3</td>\n",
       "      <td>Allen, Mr. William Henry</td>\n",
       "      <td>male</td>\n",
       "      <td>35.0</td>\n",
       "      <td>0</td>\n",
       "      <td>0</td>\n",
       "      <td>373450</td>\n",
       "      <td>8.0500</td>\n",
       "      <td>NaN</td>\n",
       "      <td>S</td>\n",
       "    </tr>\n",
       "  </tbody>\n",
       "</table>\n",
       "</div>"
      ],
      "text/plain": [
       "   PassengerId  Survived  Pclass  \\\n",
       "0            1         0       3   \n",
       "1            2         1       1   \n",
       "2            3         1       3   \n",
       "3            4         1       1   \n",
       "4            5         0       3   \n",
       "\n",
       "                                                Name     Sex   Age  SibSp  \\\n",
       "0                            Braund, Mr. Owen Harris    male  22.0      1   \n",
       "1  Cumings, Mrs. John Bradley (Florence Briggs Th...  female  38.0      1   \n",
       "2                             Heikkinen, Miss. Laina  female  26.0      0   \n",
       "3       Futrelle, Mrs. Jacques Heath (Lily May Peel)  female  35.0      1   \n",
       "4                           Allen, Mr. William Henry    male  35.0      0   \n",
       "\n",
       "   Parch            Ticket     Fare Cabin Embarked  \n",
       "0      0         A/5 21171   7.2500   NaN        S  \n",
       "1      0          PC 17599  71.2833   C85        C  \n",
       "2      0  STON/O2. 3101282   7.9250   NaN        S  \n",
       "3      0            113803  53.1000  C123        S  \n",
       "4      0            373450   8.0500   NaN        S  "
      ]
     },
     "execution_count": 3,
     "metadata": {},
     "output_type": "execute_result"
    }
   ],
   "source": [
    "train.head()   #to see a few of the details"
   ]
  },
  {
   "cell_type": "markdown",
   "id": "c8727ad8",
   "metadata": {},
   "source": [
    "### Exploratory Data Analysis"
   ]
  },
  {
   "cell_type": "markdown",
   "id": "319055f0",
   "metadata": {},
   "source": [
    "We'll start some exploratory data analysis by checking out missing data!\n",
    "\n",
    "We can use seaborn to create a simple heatmap to see where we are missing data!"
   ]
  },
  {
   "cell_type": "code",
   "execution_count": 4,
   "id": "731de736",
   "metadata": {},
   "outputs": [
    {
     "data": {
      "text/html": [
       "<div>\n",
       "<style scoped>\n",
       "    .dataframe tbody tr th:only-of-type {\n",
       "        vertical-align: middle;\n",
       "    }\n",
       "\n",
       "    .dataframe tbody tr th {\n",
       "        vertical-align: top;\n",
       "    }\n",
       "\n",
       "    .dataframe thead th {\n",
       "        text-align: right;\n",
       "    }\n",
       "</style>\n",
       "<table border=\"1\" class=\"dataframe\">\n",
       "  <thead>\n",
       "    <tr style=\"text-align: right;\">\n",
       "      <th></th>\n",
       "      <th>PassengerId</th>\n",
       "      <th>Survived</th>\n",
       "      <th>Pclass</th>\n",
       "      <th>Name</th>\n",
       "      <th>Sex</th>\n",
       "      <th>Age</th>\n",
       "      <th>SibSp</th>\n",
       "      <th>Parch</th>\n",
       "      <th>Ticket</th>\n",
       "      <th>Fare</th>\n",
       "      <th>Cabin</th>\n",
       "      <th>Embarked</th>\n",
       "    </tr>\n",
       "  </thead>\n",
       "  <tbody>\n",
       "    <tr>\n",
       "      <th>0</th>\n",
       "      <td>False</td>\n",
       "      <td>False</td>\n",
       "      <td>False</td>\n",
       "      <td>False</td>\n",
       "      <td>False</td>\n",
       "      <td>False</td>\n",
       "      <td>False</td>\n",
       "      <td>False</td>\n",
       "      <td>False</td>\n",
       "      <td>False</td>\n",
       "      <td>True</td>\n",
       "      <td>False</td>\n",
       "    </tr>\n",
       "    <tr>\n",
       "      <th>1</th>\n",
       "      <td>False</td>\n",
       "      <td>False</td>\n",
       "      <td>False</td>\n",
       "      <td>False</td>\n",
       "      <td>False</td>\n",
       "      <td>False</td>\n",
       "      <td>False</td>\n",
       "      <td>False</td>\n",
       "      <td>False</td>\n",
       "      <td>False</td>\n",
       "      <td>False</td>\n",
       "      <td>False</td>\n",
       "    </tr>\n",
       "    <tr>\n",
       "      <th>2</th>\n",
       "      <td>False</td>\n",
       "      <td>False</td>\n",
       "      <td>False</td>\n",
       "      <td>False</td>\n",
       "      <td>False</td>\n",
       "      <td>False</td>\n",
       "      <td>False</td>\n",
       "      <td>False</td>\n",
       "      <td>False</td>\n",
       "      <td>False</td>\n",
       "      <td>True</td>\n",
       "      <td>False</td>\n",
       "    </tr>\n",
       "    <tr>\n",
       "      <th>3</th>\n",
       "      <td>False</td>\n",
       "      <td>False</td>\n",
       "      <td>False</td>\n",
       "      <td>False</td>\n",
       "      <td>False</td>\n",
       "      <td>False</td>\n",
       "      <td>False</td>\n",
       "      <td>False</td>\n",
       "      <td>False</td>\n",
       "      <td>False</td>\n",
       "      <td>False</td>\n",
       "      <td>False</td>\n",
       "    </tr>\n",
       "    <tr>\n",
       "      <th>4</th>\n",
       "      <td>False</td>\n",
       "      <td>False</td>\n",
       "      <td>False</td>\n",
       "      <td>False</td>\n",
       "      <td>False</td>\n",
       "      <td>False</td>\n",
       "      <td>False</td>\n",
       "      <td>False</td>\n",
       "      <td>False</td>\n",
       "      <td>False</td>\n",
       "      <td>True</td>\n",
       "      <td>False</td>\n",
       "    </tr>\n",
       "    <tr>\n",
       "      <th>...</th>\n",
       "      <td>...</td>\n",
       "      <td>...</td>\n",
       "      <td>...</td>\n",
       "      <td>...</td>\n",
       "      <td>...</td>\n",
       "      <td>...</td>\n",
       "      <td>...</td>\n",
       "      <td>...</td>\n",
       "      <td>...</td>\n",
       "      <td>...</td>\n",
       "      <td>...</td>\n",
       "      <td>...</td>\n",
       "    </tr>\n",
       "    <tr>\n",
       "      <th>886</th>\n",
       "      <td>False</td>\n",
       "      <td>False</td>\n",
       "      <td>False</td>\n",
       "      <td>False</td>\n",
       "      <td>False</td>\n",
       "      <td>False</td>\n",
       "      <td>False</td>\n",
       "      <td>False</td>\n",
       "      <td>False</td>\n",
       "      <td>False</td>\n",
       "      <td>True</td>\n",
       "      <td>False</td>\n",
       "    </tr>\n",
       "    <tr>\n",
       "      <th>887</th>\n",
       "      <td>False</td>\n",
       "      <td>False</td>\n",
       "      <td>False</td>\n",
       "      <td>False</td>\n",
       "      <td>False</td>\n",
       "      <td>False</td>\n",
       "      <td>False</td>\n",
       "      <td>False</td>\n",
       "      <td>False</td>\n",
       "      <td>False</td>\n",
       "      <td>False</td>\n",
       "      <td>False</td>\n",
       "    </tr>\n",
       "    <tr>\n",
       "      <th>888</th>\n",
       "      <td>False</td>\n",
       "      <td>False</td>\n",
       "      <td>False</td>\n",
       "      <td>False</td>\n",
       "      <td>False</td>\n",
       "      <td>True</td>\n",
       "      <td>False</td>\n",
       "      <td>False</td>\n",
       "      <td>False</td>\n",
       "      <td>False</td>\n",
       "      <td>True</td>\n",
       "      <td>False</td>\n",
       "    </tr>\n",
       "    <tr>\n",
       "      <th>889</th>\n",
       "      <td>False</td>\n",
       "      <td>False</td>\n",
       "      <td>False</td>\n",
       "      <td>False</td>\n",
       "      <td>False</td>\n",
       "      <td>False</td>\n",
       "      <td>False</td>\n",
       "      <td>False</td>\n",
       "      <td>False</td>\n",
       "      <td>False</td>\n",
       "      <td>False</td>\n",
       "      <td>False</td>\n",
       "    </tr>\n",
       "    <tr>\n",
       "      <th>890</th>\n",
       "      <td>False</td>\n",
       "      <td>False</td>\n",
       "      <td>False</td>\n",
       "      <td>False</td>\n",
       "      <td>False</td>\n",
       "      <td>False</td>\n",
       "      <td>False</td>\n",
       "      <td>False</td>\n",
       "      <td>False</td>\n",
       "      <td>False</td>\n",
       "      <td>True</td>\n",
       "      <td>False</td>\n",
       "    </tr>\n",
       "  </tbody>\n",
       "</table>\n",
       "<p>891 rows × 12 columns</p>\n",
       "</div>"
      ],
      "text/plain": [
       "     PassengerId  Survived  Pclass   Name    Sex    Age  SibSp  Parch  Ticket  \\\n",
       "0          False     False   False  False  False  False  False  False   False   \n",
       "1          False     False   False  False  False  False  False  False   False   \n",
       "2          False     False   False  False  False  False  False  False   False   \n",
       "3          False     False   False  False  False  False  False  False   False   \n",
       "4          False     False   False  False  False  False  False  False   False   \n",
       "..           ...       ...     ...    ...    ...    ...    ...    ...     ...   \n",
       "886        False     False   False  False  False  False  False  False   False   \n",
       "887        False     False   False  False  False  False  False  False   False   \n",
       "888        False     False   False  False  False   True  False  False   False   \n",
       "889        False     False   False  False  False  False  False  False   False   \n",
       "890        False     False   False  False  False  False  False  False   False   \n",
       "\n",
       "      Fare  Cabin  Embarked  \n",
       "0    False   True     False  \n",
       "1    False  False     False  \n",
       "2    False   True     False  \n",
       "3    False  False     False  \n",
       "4    False   True     False  \n",
       "..     ...    ...       ...  \n",
       "886  False   True     False  \n",
       "887  False  False     False  \n",
       "888  False   True     False  \n",
       "889  False  False     False  \n",
       "890  False   True     False  \n",
       "\n",
       "[891 rows x 12 columns]"
      ]
     },
     "execution_count": 4,
     "metadata": {},
     "output_type": "execute_result"
    }
   ],
   "source": [
    "train.isnull()"
   ]
  },
  {
   "cell_type": "code",
   "execution_count": 5,
   "id": "88b3f1b9",
   "metadata": {},
   "outputs": [
    {
     "data": {
      "text/plain": [
       "(891, 12)"
      ]
     },
     "execution_count": 5,
     "metadata": {},
     "output_type": "execute_result"
    }
   ],
   "source": [
    "np.shape(train)"
   ]
  },
  {
   "cell_type": "markdown",
   "id": "3c342cf0",
   "metadata": {},
   "source": [
    "- The current method for handling missing data isn't ideal. It seems like we're missing some information about the data, and Jupyter Notebook might not be providing accurate row counts.\n",
    "\n",
    "- To address this, let's use a heatmap visualization with Seaborn. Seaborn's .isnull() function (from the Pandas library) can help us identify missing values effectively.\n",
    "- By creating a heatmap, we can visually explore where missing data is located in our dataset and gain a better understanding of the issue."
   ]
  },
  {
   "cell_type": "code",
   "execution_count": 6,
   "id": "554a1385",
   "metadata": {},
   "outputs": [
    {
     "data": {
      "text/plain": [
       "<Axes: >"
      ]
     },
     "execution_count": 6,
     "metadata": {},
     "output_type": "execute_result"
    },
    {
     "data": {
      "image/png": "[encoded data removed]",
      "text/plain": [
       "<Figure size 640x480 with 2 Axes>"
      ]
     },
     "metadata": {},
     "output_type": "display_data"
    }
   ],
   "source": [
    "sb.heatmap(train.isnull(), yticklabels=False, cbar=True, cmap='rocket')\n",
    "\n",
    "\n",
    "#cbar: This refers to the colorbar, which is a visual element often used alongside heatmaps. It shows the color range corresponding to the data values in the heatmap.\n",
    "\n",
    "#cmap: This stands for \"colormap\" and defines the color scheme used to represent data values in the heatmap. Common colormaps include \"viridis,\" \"rocket,\" \"mako,\" etc. Each colormap offers a different visual representation for highlighting patterns in your data.\n",
    "\n",
    "#yticklabels: These are the labels displayed on the y-axis of the heatmap. In your case, you mentioned having many rows, so including all the labels might clutter the visualization. We can choose to omit them or display only a select few for better readability."
   ]
  },
  {
   "cell_type": "markdown",
   "id": "93969805",
   "metadata": {},
   "source": [
    "Now, we'll first try to visualize this data more clearly and the we'll handle the NaN values with something by using some of the statistic concepts"
   ]
  },
  {
   "cell_type": "markdown",
   "id": "3ef6e88d",
   "metadata": {},
   "source": [
    "### What observation is made:"
   ]
  },
  {
   "cell_type": "markdown",
   "id": "2cebb26b",
   "metadata": {},
   "source": [
    "- We can observe that 20-30% of the Age data is missing but this is a manageable amount, so we can probably fill in these missing ages with estimates (a process called imputation which refers to the process of estimating and filling in missing values in a dataset).\n",
    "- On the other hand, in the cabin dataset we can see a significant anount of missing data. It's too much to be helpful in it's current form, so we have two options:\n",
    "\n",
    "            * completely remove the 'cabin' column from our analysis\n",
    "            * Create a new feature called \"Cabin_known\" that indicates whether someone had cabin information recorded (Yes/No or 1/0). This can be more useful than the original Cabin column with so much missing data."
   ]
  },
  {
   "cell_type": "markdown",
   "id": "69065dcb",
   "metadata": {},
   "source": [
    "### Now Analyzing: \n"
   ]
  },
  {
   "cell_type": "markdown",
   "id": "c6e5c1eb",
   "metadata": {},
   "source": [
    "On the reviewing the above dataset we can see that at first we need to check the count of person survived and died.\n",
    "\n",
    "So we would be ploting a counter plot to check the number and visualize it."
   ]
  },
  {
   "cell_type": "code",
   "execution_count": 7,
   "id": "75c494ad",
   "metadata": {},
   "outputs": [
    {
     "data": {
      "text/plain": [
       "<Axes: xlabel='Survived', ylabel='count'>"
      ]
     },
     "execution_count": 7,
     "metadata": {},
     "output_type": "execute_result"
    },
    {
     "data": {
      "image/png": "[encoded data removed]",
      "text/plain": [
       "<Figure size 640x480 with 1 Axes>"
      ]
     },
     "metadata": {},
     "output_type": "display_data"
    }
   ],
   "source": [
    "sb.set_style('darkgrid')\n",
    "sb.countplot(x='Survived', data=train)"
   ]
  },
  {
   "cell_type": "markdown",
   "id": "2904cf74",
   "metadata": {},
   "source": [
    "And by vizualizing above plot we conclude that around 550 people did not survived and near 330 people survived."
   ]
  },
  {
   "cell_type": "markdown",
   "id": "5baf8e8c",
   "metadata": {},
   "source": [
    "- style: dict, or one of {darkgrid, whitegrid, dark, white, ticks} A dictionary of parameters or the name of a preconfigured style.\n",
    "\n",
    "- sb.countplot(x='Survived', data=train) \n",
    "This is the core part that creates the visualization. sb.countplot is a Seaborn function specifically designed for creating count plots. \n",
    "\n",
    "x='Survived' defines the variable on the x-axis.\n",
    "data=train specifies the data source for the plot. The variable train refers to a Pandas DataFrame containing your dataset."
   ]
  },
  {
   "cell_type": "code",
   "execution_count": 8,
   "id": "e8aa36eb",
   "metadata": {},
   "outputs": [
    {
     "data": {
      "text/plain": [
       "<Axes: xlabel='Survived', ylabel='count'>"
      ]
     },
     "execution_count": 8,
     "metadata": {},
     "output_type": "execute_result"
    },
    {
     "data": {
      "image/png": "[encoded data removed]",
      "text/plain": [
       "<Figure size 640x480 with 1 Axes>"
      ]
     },
     "metadata": {},
     "output_type": "display_data"
    }
   ],
   "source": [
    "sb.set_style('whitegrid')\n",
    "sb.countplot(x='Survived', hue='Sex', data=train, palette='coolwarm')\n",
    "\n",
    "# the hue parameter helps you visualize how a categorical variable influences another variable in your data.\n",
    "# here we want to see from the people survived how many are male and female.\n",
    "\n",
    "#palette: palette name, list, or dict\n",
    "# {flare,'husl', 'Set2', 'tab10', 'pastel' (good for showing differences between groups)}     {'viridis' (green to yellow), 'plasma' (purple to orange), 'inferno' (black to red)}         {'RdBu_r' (red-white-blue), 'coolwarm' (blue to orange), 'bwr' (blue-white-red)}"
   ]
  },
  {
   "cell_type": "code",
   "execution_count": 9,
   "id": "4f9d72a2",
   "metadata": {},
   "outputs": [
    {
     "data": {
      "text/plain": [
       "<Axes: xlabel='Survived', ylabel='count'>"
      ]
     },
     "execution_count": 9,
     "metadata": {},
     "output_type": "execute_result"
    },
    {
     "data": {
      "image/png": "[encoded data removed]",
      "text/plain": [
       "<Figure size 640x480 with 1 Axes>"
      ]
     },
     "metadata": {},
     "output_type": "display_data"
    }
   ],
   "source": [
    "sb.set_style('whitegrid')\n",
    "sb.countplot(x='Survived', hue='Pclass', data=train, palette='pastel')"
   ]
  },
  {
   "cell_type": "code",
   "execution_count": 10,
   "id": "38d8a7aa",
   "metadata": {},
   "outputs": [
    {
     "data": {
      "text/plain": [
       "<Axes: xlabel='Age', ylabel='Count'>"
      ]
     },
     "execution_count": 10,
     "metadata": {},
     "output_type": "execute_result"
    },
    {
     "data": {
      "image/png": "[encoded data removed]",
      "text/plain": [
       "<Figure size 640x480 with 1 Axes>"
      ]
     },
     "metadata": {},
     "output_type": "display_data"
    }
   ],
   "source": [
    "sb.histplot(train['Age'].dropna(), kde=True, color='green', bins=40)"
   ]
  },
  {
   "cell_type": "markdown",
   "id": "e6341670",
   "metadata": {},
   "source": [
    "The dropna() method removes the rows that contains NULL values.\n",
    "\n",
    "Now we will try to get more information of the data like what age range of people died.Also we need to remove 20% (approx.) data which is not available."
   ]
  },
  {
   "cell_type": "code",
   "execution_count": 11,
   "id": "a5d088df",
   "metadata": {},
   "outputs": [
    {
     "data": {
      "text/plain": [
       "<Axes: >"
      ]
     },
     "execution_count": 11,
     "metadata": {},
     "output_type": "execute_result"
    },
    {
     "data": {
      "image/png": "[encoded data removed]",
      "text/plain": [
       "<Figure size 640x480 with 1 Axes>"
      ]
     },
     "metadata": {},
     "output_type": "display_data"
    }
   ],
   "source": [
    "train['Age'].hist(bins=30,color='darkgreen',alpha=0.6)"
   ]
  },
  {
   "cell_type": "markdown",
   "id": "b2c49827",
   "metadata": {},
   "source": [
    "Now, we'll try to find the countplot of siblingsand spouses"
   ]
  },
  {
   "cell_type": "code",
   "execution_count": 12,
   "id": "6915f571",
   "metadata": {},
   "outputs": [
    {
     "data": {
      "text/plain": [
       "<Axes: xlabel='SibSp', ylabel='count'>"
      ]
     },
     "execution_count": 12,
     "metadata": {},
     "output_type": "execute_result"
    },
    {
     "data": {
      "image/png": "[encoded data removed]",
      "text/plain": [
       "<Figure size 640x480 with 1 Axes>"
      ]
     },
     "metadata": {},
     "output_type": "display_data"
    }
   ],
   "source": [
    "sb.countplot(x='SibSp',data=train)"
   ]
  },
  {
   "cell_type": "markdown",
   "id": "f0e09281",
   "metadata": {},
   "source": [
    "Next, we'll find the fare histogram where will see the average fare"
   ]
  },
  {
   "cell_type": "code",
   "execution_count": 13,
   "id": "a8b45dd5",
   "metadata": {},
   "outputs": [
    {
     "data": {
      "text/plain": [
       "<Axes: >"
      ]
     },
     "execution_count": 13,
     "metadata": {},
     "output_type": "execute_result"
    },
    {
     "data": {
      "image/png": "[encoded data removed]",
      "text/plain": [
       "<Figure size 1000x600 with 1 Axes>"
      ]
     },
     "metadata": {},
     "output_type": "display_data"
    }
   ],
   "source": [
    "train['Fare'].hist(color='crimson', bins=30, figsize=(10,6))"
   ]
  },
  {
   "cell_type": "markdown",
   "id": "69c9a0a6",
   "metadata": {},
   "source": [
    "### Cufflinks for plots:"
   ]
  },
  {
   "cell_type": "markdown",
   "id": "3c05e91e",
   "metadata": {},
   "source": [
    "- Cufflinks isn't an entirely standalone library for creating plots. It actually acts as a bridge between two other powerful tools:\n",
    "\n",
    "1. Pandas: This is a popular Python library for data manipulation and analysis. It provides efficient data structures like DataFrames that hold tabular data.\n",
    "\n",
    "2. Plotly: This is a Python graphing library that creates interactive visualizations. Plotly charts are known for being visually appealing and highly customizable.\n",
    "\n",
    "- Cufflinks essentially simplifies the process of using Plotly for data visualization when you're working with Pandas DataFrames. It provides a layer of abstraction that lets you create Plotly charts directly from your Pandas DataFrames with minimal code."
   ]
  },
  {
   "cell_type": "code",
   "execution_count": 14,
   "id": "4d9f32ef",
   "metadata": {},
   "outputs": [
    {
     "name": "stdout",
     "output_type": "stream",
     "text": [
      "Requirement already satisfied: cufflinks in c:\\users\\queen\\anaconda3\\lib\\site-packages (0.17.3)\n",
      "Requirement already satisfied: numpy>=1.9.2 in c:\\users\\queen\\anaconda3\\lib\\site-packages (from cufflinks) (1.24.3)\n",
      "Requirement already satisfied: pandas>=0.19.2 in c:\\users\\queen\\anaconda3\\lib\\site-packages (from cufflinks) (2.0.3)\n",
      "Requirement already satisfied: plotly>=4.1.1 in c:\\users\\queen\\anaconda3\\lib\\site-packages (from cufflinks) (5.9.0)\n",
      "Requirement already satisfied: six>=1.9.0 in c:\\users\\queen\\anaconda3\\lib\\site-packages (from cufflinks) (1.16.0)\n",
      "Requirement already satisfied: colorlover>=0.2.1 in c:\\users\\queen\\anaconda3\\lib\\site-packages (from cufflinks) (0.3.0)\n",
      "Requirement already satisfied: setuptools>=34.4.1 in c:\\users\\queen\\anaconda3\\lib\\site-packages (from cufflinks) (68.0.0)\n",
      "Requirement already satisfied: ipython>=5.3.0 in c:\\users\\queen\\anaconda3\\lib\\site-packages (from cufflinks) (8.15.0)\n",
      "Requirement already satisfied: ipywidgets>=7.0.0 in c:\\users\\queen\\anaconda3\\lib\\site-packages (from cufflinks) (8.0.4)\n",
      "Requirement already satisfied: backcall in c:\\users\\queen\\anaconda3\\lib\\site-packages (from ipython>=5.3.0->cufflinks) (0.2.0)\n",
      "Requirement already satisfied: decorator in c:\\users\\queen\\anaconda3\\lib\\site-packages (from ipython>=5.3.0->cufflinks) (5.1.1)\n",
      "Requirement already satisfied: jedi>=0.16 in c:\\users\\queen\\anaconda3\\lib\\site-packages (from ipython>=5.3.0->cufflinks) (0.18.1)\n",
      "Requirement already satisfied: matplotlib-inline in c:\\users\\queen\\anaconda3\\lib\\site-packages (from ipython>=5.3.0->cufflinks) (0.1.6)\n",
      "Requirement already satisfied: pickleshare in c:\\users\\queen\\anaconda3\\lib\\site-packages (from ipython>=5.3.0->cufflinks) (0.7.5)\n",
      "Requirement already satisfied: prompt-toolkit!=3.0.37,<3.1.0,>=3.0.30 in c:\\users\\queen\\anaconda3\\lib\\site-packages (from ipython>=5.3.0->cufflinks) (3.0.36)\n",
      "Requirement already satisfied: pygments>=2.4.0 in c:\\users\\queen\\anaconda3\\lib\\site-packages (from ipython>=5.3.0->cufflinks) (2.15.1)\n",
      "Requirement already satisfied: stack-data in c:\\users\\queen\\anaconda3\\lib\\site-packages (from ipython>=5.3.0->cufflinks) (0.2.0)\n",
      "Requirement already satisfied: traitlets>=5 in c:\\users\\queen\\anaconda3\\lib\\site-packages (from ipython>=5.3.0->cufflinks) (5.7.1)\n",
      "Requirement already satisfied: colorama in c:\\users\\queen\\anaconda3\\lib\\site-packages (from ipython>=5.3.0->cufflinks) (0.4.6)\n",
      "Requirement already satisfied: ipykernel>=4.5.1 in c:\\users\\queen\\anaconda3\\lib\\site-packages (from ipywidgets>=7.0.0->cufflinks) (6.25.0)\n",
      "Requirement already satisfied: widgetsnbextension~=4.0 in c:\\users\\queen\\anaconda3\\lib\\site-packages (from ipywidgets>=7.0.0->cufflinks) (4.0.5)\n",
      "Requirement already satisfied: jupyterlab-widgets~=3.0 in c:\\users\\queen\\anaconda3\\lib\\site-packages (from ipywidgets>=7.0.0->cufflinks) (3.0.5)\n",
      "Requirement already satisfied: python-dateutil>=2.8.2 in c:\\users\\queen\\anaconda3\\lib\\site-packages (from pandas>=0.19.2->cufflinks) (2.8.2)\n",
      "Requirement already satisfied: pytz>=2020.1 in c:\\users\\queen\\anaconda3\\lib\\site-packages (from pandas>=0.19.2->cufflinks) (2023.3.post1)\n",
      "Requirement already satisfied: tzdata>=2022.1 in c:\\users\\queen\\anaconda3\\lib\\site-packages (from pandas>=0.19.2->cufflinks) (2023.3)\n",
      "Requirement already satisfied: tenacity>=6.2.0 in c:\\users\\queen\\anaconda3\\lib\\site-packages (from plotly>=4.1.1->cufflinks) (8.2.2)\n",
      "Requirement already satisfied: comm>=0.1.1 in c:\\users\\queen\\anaconda3\\lib\\site-packages (from ipykernel>=4.5.1->ipywidgets>=7.0.0->cufflinks) (0.1.2)\n",
      "Requirement already satisfied: debugpy>=1.6.5 in c:\\users\\queen\\anaconda3\\lib\\site-packages (from ipykernel>=4.5.1->ipywidgets>=7.0.0->cufflinks) (1.6.7)\n",
      "Requirement already satisfied: jupyter-client>=6.1.12 in c:\\users\\queen\\anaconda3\\lib\\site-packages (from ipykernel>=4.5.1->ipywidgets>=7.0.0->cufflinks) (7.4.9)\n",
      "Requirement already satisfied: jupyter-core!=5.0.*,>=4.12 in c:\\users\\queen\\anaconda3\\lib\\site-packages (from ipykernel>=4.5.1->ipywidgets>=7.0.0->cufflinks) (5.3.0)\n",
      "Requirement already satisfied: nest-asyncio in c:\\users\\queen\\anaconda3\\lib\\site-packages (from ipykernel>=4.5.1->ipywidgets>=7.0.0->cufflinks) (1.5.6)\n",
      "Requirement already satisfied: packaging in c:\\users\\queen\\anaconda3\\lib\\site-packages (from ipykernel>=4.5.1->ipywidgets>=7.0.0->cufflinks) (23.1)\n",
      "Requirement already satisfied: psutil in c:\\users\\queen\\anaconda3\\lib\\site-packages (from ipykernel>=4.5.1->ipywidgets>=7.0.0->cufflinks) (5.9.0)\n",
      "Requirement already satisfied: pyzmq>=20 in c:\\users\\queen\\anaconda3\\lib\\site-packages (from ipykernel>=4.5.1->ipywidgets>=7.0.0->cufflinks) (23.2.0)\n",
      "Requirement already satisfied: tornado>=6.1 in c:\\users\\queen\\anaconda3\\lib\\site-packages (from ipykernel>=4.5.1->ipywidgets>=7.0.0->cufflinks) (6.3.2)\n",
      "Requirement already satisfied: parso<0.9.0,>=0.8.0 in c:\\users\\queen\\anaconda3\\lib\\site-packages (from jedi>=0.16->ipython>=5.3.0->cufflinks) (0.8.3)\n",
      "Requirement already satisfied: wcwidth in c:\\users\\queen\\anaconda3\\lib\\site-packages (from prompt-toolkit!=3.0.37,<3.1.0,>=3.0.30->ipython>=5.3.0->cufflinks) (0.2.5)\n",
      "Requirement already satisfied: executing in c:\\users\\queen\\anaconda3\\lib\\site-packages (from stack-data->ipython>=5.3.0->cufflinks) (0.8.3)\n",
      "Requirement already satisfied: asttokens in c:\\users\\queen\\anaconda3\\lib\\site-packages (from stack-data->ipython>=5.3.0->cufflinks) (2.0.5)\n",
      "Requirement already satisfied: pure-eval in c:\\users\\queen\\anaconda3\\lib\\site-packages (from stack-data->ipython>=5.3.0->cufflinks) (0.2.2)\n",
      "Requirement already satisfied: entrypoints in c:\\users\\queen\\anaconda3\\lib\\site-packages (from jupyter-client>=6.1.12->ipykernel>=4.5.1->ipywidgets>=7.0.0->cufflinks) (0.4)\n",
      "Requirement already satisfied: platformdirs>=2.5 in c:\\users\\queen\\anaconda3\\lib\\site-packages (from jupyter-core!=5.0.*,>=4.12->ipykernel>=4.5.1->ipywidgets>=7.0.0->cufflinks) (3.10.0)\n",
      "Requirement already satisfied: pywin32>=300 in c:\\users\\queen\\anaconda3\\lib\\site-packages (from jupyter-core!=5.0.*,>=4.12->ipykernel>=4.5.1->ipywidgets>=7.0.0->cufflinks) (305.1)\n",
      "Note: you may need to restart the kernel to use updated packages.\n"
     ]
    }
   ],
   "source": [
    "pip install cufflinks"
   ]
  },
  {
   "cell_type": "code",
   "execution_count": null,
   "id": "99c9cc4c",
   "metadata": {},
   "outputs": [],
   "source": [
    "import cufflinks as cf\n",
    "cf.go_offline()"
   ]
  },
  {
   "cell_type": "code",
   "execution_count": null,
   "id": "a42fb7fb",
   "metadata": {},
   "outputs": [],
   "source": [
    "train['Fare'].iplot(kind='hist',bins=30,color='pink')"
   ]
  },
  {
   "cell_type": "markdown",
   "id": "f87af30d",
   "metadata": {},
   "source": [
    "- Plotly.py: The core library behind cufflinks, offering interactive visualizations directly (without the Pandas-specific layer of cufflinks).\n",
    "\n",
    "\n",
    "- Choosing the right tool:\n",
    "\n",
    "1. Use Cufflinks if you want interactive visualizations directly from your Pandas DataFrames and need more than just histograms. Cufflinks leverages Plotly, so Cufflink plots inherit the strengths of Plotly (interactivity, aesthetics).\n",
    "\n",
    "2. Use hist if you specifically need to visualize the distribution of a continuous variable as a histogram. You can use libraries like Matplotlib or Seaborn for creating histograms, which might offer more customization options compared to Cufflinks' built-in histograms. \"hist\" is a fundamental tool for understanding data distribution, and several libraries offer variations with different features."
   ]
  },
  {
   "cell_type": "markdown",
   "id": "763d5f01",
   "metadata": {},
   "source": [
    "## Data Cleaning:"
   ]
  },
  {
   "cell_type": "markdown",
   "id": "377766e7",
   "metadata": {},
   "source": [
    "- We decided to address missing age data by filling it in, rather than dropping entire rows. While taking the average age of all passengers is an option (imputation), we can be more strategic.\n",
    "\n",
    "- Here's the key insight: Passengers' ages likely vary depending on their travel class (e.g., first class might have older passengers on average compared to third class). Therefore, filling in missing ages based on the average age within each passenger class (mean imputation by class) would be a more accurate approach.\n",
    "\n",
    "- This strategy is particularly important for large datasets with significant missing data. By considering additional factors like passenger class, we can create more realistic imputations and improve the overall quality of our data."
   ]
  },
  {
   "cell_type": "code",
   "execution_count": null,
   "id": "d9328ad5",
   "metadata": {},
   "outputs": [],
   "source": [
    "#plt.figure(figsize=(width, height)) can control the canvas size of your Matplotlib visualizations, making them suitable for different purposes.\n",
    "\n",
    "plt.figure(figsize=(12,7))\n",
    "sb.boxplot(x='Pclass', y='Age', data=train, palette='spring')\n",
    "\n",
    "# after a few analysis we saw that there is some relation neetween Pclass and Age\n",
    "# so, we are trying to find out that w.r.t the Pclass what is the avg Age of the people"
   ]
  },
  {
   "cell_type": "markdown",
   "id": "0de08f48",
   "metadata": {},
   "source": [
    "From the above boxplot, we can see that the avg age of Pclass 1 is approx 38. Similarly, for the avg age of Pclass 2 is approx 29 and that of Pclass 3 is approx 23."
   ]
  },
  {
   "cell_type": "markdown",
   "id": "dba9902f",
   "metadata": {},
   "source": [
    "Wealthier passengers (higher classes) tend to be older on average.\n",
    "We'll use these class-based average ages to fill in missing age values based on passenger class (Pclass)."
   ]
  },
  {
   "cell_type": "code",
   "execution_count": null,
   "id": "3f325c06",
   "metadata": {},
   "outputs": [],
   "source": [
    "def impute_age(cols):\n",
    "    Age=cols[0]\n",
    "    Pclass=cols[1]\n",
    "    \n",
    "    if pd.isnull(Age):\n",
    "        if Pclass == 1:\n",
    "            return 38\n",
    "        \n",
    "        if Pclass == 2:\n",
    "            return 29\n",
    "        \n",
    "        if Pclass == 3:\n",
    "            return 23\n",
    "        \n",
    "    return Age"
   ]
  },
  {
   "cell_type": "markdown",
   "id": "5e4d2e52",
   "metadata": {},
   "source": [
    "now, lets use this above made function"
   ]
  },
  {
   "cell_type": "code",
   "execution_count": null,
   "id": "9a2b7811",
   "metadata": {},
   "outputs": [],
   "source": [
    "train['Age'] = train[['Age', 'Pclass']].apply(impute_age, axis=1) \n",
    "# axis=1 over here refers to columns and axis=0 refers to row"
   ]
  },
  {
   "cell_type": "code",
   "execution_count": null,
   "id": "91477820",
   "metadata": {},
   "outputs": [],
   "source": [
    "# lets check the same heatmap\n",
    "\n",
    "sb.heatmap(train.isnull(), yticklabels=False, cbar=True, cmap='rocket')\n"
   ]
  },
  {
   "cell_type": "markdown",
   "id": "c87813d6",
   "metadata": {},
   "source": [
    "We can see that the missing values of Age are fixed.\n",
    "Now, lets drop the Cabin column and the row in Embarked that is NaN."
   ]
  },
  {
   "cell_type": "code",
   "execution_count": null,
   "id": "39649058",
   "metadata": {},
   "outputs": [],
   "source": [
    "train.drop('Cabin', axis=1, inplace=True)"
   ]
  },
  {
   "cell_type": "code",
   "execution_count": null,
   "id": "18e1f0d8",
   "metadata": {},
   "outputs": [],
   "source": [
    "sb.heatmap(train.isnull(), yticklabels=False, cbar=True, cmap='rocket')\n",
    "\n",
    "\n",
    "#  inplace=True: This is an important argument. By setting it to \n",
    "# True, you're modifying the original train DataFrame itself. If you \n",
    "# set it to False (default), a new DataFrame without the \"Cabin\" \n",
    "# column would be returned, but the original train would remain \n",
    "# unchanged."
   ]
  },
  {
   "cell_type": "code",
   "execution_count": null,
   "id": "1cb5e5c0",
   "metadata": {},
   "outputs": [],
   "source": [
    "train.head()"
   ]
  },
  {
   "cell_type": "code",
   "execution_count": null,
   "id": "7aca05b0",
   "metadata": {},
   "outputs": [],
   "source": [
    "train.dropna(inplace=True)\n",
    "# This line removes rows from the train DataFrame that contain missing values (NaN or NULL) in any of their columns."
   ]
  },
  {
   "cell_type": "markdown",
   "id": "0a5fe2dd",
   "metadata": {},
   "source": [
    "## Converting Categorical Features"
   ]
  },
  {
   "cell_type": "markdown",
   "id": "e9d62592",
   "metadata": {},
   "source": [
    "We'll need to convert categorical features to dummy variables using pandas! Otherwise our machine learning algorithm won't be able to directly take in those features as inputs."
   ]
  },
  {
   "cell_type": "code",
   "execution_count": null,
   "id": "65907d94",
   "metadata": {},
   "outputs": [],
   "source": [
    "train.info()"
   ]
  },
  {
   "cell_type": "markdown",
   "id": "86c0e40b",
   "metadata": {},
   "source": [
    "#### What are dummy variables ?"
   ]
  },
  {
   "cell_type": "markdown",
   "id": "f5359ea8",
   "metadata": {},
   "source": [
    "Dummy variables, also known as indicator variables, are categorical variables(dtype: object) represented by binary values (0 or 1) to encode different categories. In pandas, you can create dummy variables from categorical columns using the pd.get_dummies function."
   ]
  },
  {
   "cell_type": "markdown",
   "id": "e1a3a087",
   "metadata": {},
   "source": [
    "#### Why Use Dummy Variables?\n",
    "- Many machine learning models work best with numerical features. Dummy variables convert categorical data into a numerical format suitable for these models.\n",
    "- They help capture the relationship between different categories of a feature and the target variable in your analysis."
   ]
  },
  {
   "cell_type": "code",
   "execution_count": null,
   "id": "cccd3bc8",
   "metadata": {},
   "outputs": [],
   "source": [
    "pd.get_dummies(train['Embarked'], drop_first=True).head()"
   ]
  },
  {
   "cell_type": "markdown",
   "id": "99efe3b1",
   "metadata": {},
   "source": [
    "drop_first=True in pd.get_dummies is a helpful technique to prevent multicollinearity and ensure the statistical validity of your regression models when working with categorical variables."
   ]
  },
  {
   "cell_type": "code",
   "execution_count": null,
   "id": "e3fe9441",
   "metadata": {},
   "outputs": [],
   "source": [
    "sex = pd.get_dummies(train['Sex'],drop_first=True)\n",
    "embark = pd.get_dummies(train['Embarked'],drop_first=True)"
   ]
  },
  {
   "cell_type": "code",
   "execution_count": null,
   "id": "6e713172",
   "metadata": {},
   "outputs": [],
   "source": [
    "train.drop(['Sex','Embarked','Name','Ticket'], axis=1, inplace=True)"
   ]
  },
  {
   "cell_type": "code",
   "execution_count": null,
   "id": "236c866c",
   "metadata": {},
   "outputs": [],
   "source": [
    "train.head()"
   ]
  },
  {
   "cell_type": "code",
   "execution_count": null,
   "id": "25135c43",
   "metadata": {},
   "outputs": [],
   "source": [
    "train = pd.concat([train, sex, embark], axis=1)"
   ]
  },
  {
   "cell_type": "code",
   "execution_count": null,
   "id": "7481e460",
   "metadata": {},
   "outputs": [],
   "source": [
    "train.head()"
   ]
  },
  {
   "cell_type": "markdown",
   "id": "57bed0f1",
   "metadata": {},
   "source": [
    "Now, Our data is ready for our model!"
   ]
  },
  {
   "cell_type": "markdown",
   "id": "9360339e",
   "metadata": {},
   "source": [
    "## Using Logistic Regression for Building the model"
   ]
  },
  {
   "cell_type": "markdown",
   "id": "bd42034d",
   "metadata": {},
   "source": [
    "Let's start by splitting our data into a training set and test set.  "
   ]
  },
  {
   "cell_type": "markdown",
   "id": "f2882f31",
   "metadata": {},
   "source": [
    "#### Train Test Split"
   ]
  },
  {
   "cell_type": "code",
   "execution_count": null,
   "id": "aa46165c",
   "metadata": {},
   "outputs": [],
   "source": [
    "train.drop('Survived', axis=1).head()\n",
    "# as survived is a dependent feature so we are dropping this "
   ]
  },
  {
   "cell_type": "code",
   "execution_count": null,
   "id": "26634ae6",
   "metadata": {},
   "outputs": [],
   "source": [
    "train['Survived'].head()"
   ]
  },
  {
   "cell_type": "code",
   "execution_count": null,
   "id": "3c05e75d",
   "metadata": {},
   "outputs": [],
   "source": [
    "from sklearn.model_selection import train_test_split"
   ]
  },
  {
   "cell_type": "code",
   "execution_count": null,
   "id": "68d34a58",
   "metadata": {},
   "outputs": [],
   "source": [
    "X_train, X_test, Y_train, Y_test = train_test_split(train.drop('Survived', axis=1)\n",
    "                                                   , train['Survived'], test_size=0.10, random_state=101)"
   ]
  },
  {
   "cell_type": "markdown",
   "id": "78c92eef",
   "metadata": {},
   "source": [
    "## Training and Predicting\n"
   ]
  },
  {
   "cell_type": "code",
   "execution_count": null,
   "id": "02f96e09",
   "metadata": {},
   "outputs": [],
   "source": [
    "from sklearn.linear_model import LogisticRegression"
   ]
  },
  {
   "cell_type": "markdown",
   "id": "2057a8d9",
   "metadata": {},
   "source": [
    "#### 1. Import train_test_split:\n",
    "\"from sklearn.model_selection import train_test_split\"\n",
    "\n",
    "This line imports the train_test_split function from the model_selection module of scikit-learn. This function is used to split a dataset into training and testing sets.\n",
    "\n",
    "#### 2. Data Splitting:\n",
    "\n",
    "The train_test_split function separates the data into training and testing sets. The training set (70%) is used to train the model, while the testing set (30%) is used for evaluation later.\n",
    "The target variable (\"Survived\") is excluded from the training features (X_train) to prevent data leakage during model training.\n",
    "\n",
    "- X_train: Features for the training set.\n",
    "- X_test: Features for the testing set.\n",
    "- Y_train: Target variable for the training set.\n",
    "- Y_test: Target variable for the testing set.\n",
    "\n",
    "#### 3. Logistic Regression Model:\n",
    "\n",
    "\"from sklearn.linear_model import LogisticRegression\"\n",
    "\n",
    "The LogisticRegression class is imported for building a classification model suitable for binary prediction tasks like survival (survived or not).\n",
    "\n",
    "#### 4. Model Creation: \n",
    "\n",
    "\"logmodel = LogisticRegression()\"\n",
    "\n",
    "An instance of the LogisticRegression class is created, representing the model itself. Default hyperparameters are used initially, but can be customized for further optimization.\n",
    "\n",
    "#### 5. Model Training:\n",
    "\n",
    "\"logmodel.fit(X_train, y_train)\"\n",
    "\n",
    "The fit method trains the model using the training data (X_train and y_train). During this process, the model learns the relationships between the features and the target variable (survival).\n",
    "\n",
    "##### In summary, this code snippet lays the groundwork for building a survival prediction model. The trained model can then be used to make predictions on unseen data and assess its accuracy in classifying passenger survival outcomes."
   ]
  },
  {
   "cell_type": "code",
   "execution_count": null,
   "id": "34365e4d",
   "metadata": {},
   "outputs": [],
   "source": [
    "logmodel = LogisticRegression(max_iter=1000)  # Increase from default (100)\n",
    "logmodel.fit(X_train, Y_train)"
   ]
  },
  {
   "cell_type": "markdown",
   "id": "55663fd5",
   "metadata": {},
   "source": [
    "##### error: lbfgs failed to converge (status=1):\n",
    "##### STOP: TOTAL NO. of ITERATIONS REACHED LIMIT.\n",
    "- Convergence refers to the model's ability to find a solution that minimizes the loss function (a measure of how well the model fits the data). In this case, the solver algorithm (lbfgs by default in scikit-learn's Logistic Regression) wasn't able to reach an optimal solution within the set number of iterations.\n",
    "##### To address the warning:\n",
    "\n",
    "- Increase the Number of Iterations (max_iter):  The most straightforward approach is to increase the maximum number of iterations allowed for the solver. You can achieve this by specifying a higher value for the max_iter parameter when creating the Logistic Regression model:\n",
    "\n",
    "logmodel = LogisticRegression(max_iter=1000) # Increase from default 100 logmodel.fit(X_train, y_train)\n",
    "\n",
    "- Scale the Data: Scaling your features to a similar range can improve convergence, especially if your data has features with significantly different scales. Scikit-learn offers various scaling methods like StandardScaler or MinMaxScaler in the preprocessing module. Here's an example using StandardScaler:\n",
    "\n",
    "from sklearn.preprocessing import StandardScaler\n",
    "\n",
    "scaler = StandardScaler() X_train_scaled = scaler.fit_transform(X_train) X_test_scaled = scaler.transform(X_test)\n",
    "\n",
    "logmodel = LogisticRegression() logmodel.fit(X_train_scaled, y_train)\n",
    "\n",
    "###### First try increasing max_iter first as it's a simpler solution. If increasing max_iter doesn't help or you suspect scaling issues, then incorporate data scaling using techniques like those mentioned above."
   ]
  },
  {
   "cell_type": "code",
   "execution_count": null,
   "id": "54ad6949",
   "metadata": {},
   "outputs": [],
   "source": [
    "predictions = logmodel.predict(X_test)"
   ]
  },
  {
   "cell_type": "code",
   "execution_count": null,
   "id": "7c95b0a8",
   "metadata": {},
   "outputs": [],
   "source": [
    "from sklearn.metrics import confusion_matrix"
   ]
  },
  {
   "cell_type": "code",
   "execution_count": null,
   "id": "40e82bee",
   "metadata": {},
   "outputs": [],
   "source": [
    "accuracy = confusion_matrix(Y_test, predictions)"
   ]
  },
  {
   "cell_type": "code",
   "execution_count": null,
   "id": "aa433a0e",
   "metadata": {},
   "outputs": [],
   "source": [
    "accuracy"
   ]
  },
  {
   "cell_type": "code",
   "execution_count": null,
   "id": "56b3c4be",
   "metadata": {},
   "outputs": [],
   "source": [
    "from sklearn.metrics import accuracy_score"
   ]
  },
  {
   "cell_type": "code",
   "execution_count": null,
   "id": "2f0a2852",
   "metadata": {},
   "outputs": [],
   "source": [
    "accuracy = accuracy_score(Y_test, predictions)"
   ]
  },
  {
   "cell_type": "code",
   "execution_count": null,
   "id": "852510eb",
   "metadata": {},
   "outputs": [],
   "source": [
    "accuracy"
   ]
  },
  {
   "cell_type": "code",
   "execution_count": null,
   "id": "50a560df",
   "metadata": {},
   "outputs": [],
   "source": [
    "predictions"
   ]
  },
  {
   "cell_type": "markdown",
   "id": "dde6f23c",
   "metadata": {},
   "source": [
    "###### Let's see what's happenning this the above code:\n",
    "- predictions = logmodel.predict(X_test)\n",
    "\n",
    "This line uses the trained model (logmodel) to make predictions on the testing set (X_test). The model takes the features from each data point in X_test and predicts the corresponding survival outcome (0 for not survived, 1 for survived). The predictions are stored in the predictions variable.\n",
    "\n",
    "- from sklearn.metrics import confusion_matrix\n",
    "\n",
    "This line imports the confusion_matrix function from the sklearn.metrics module. This function is used to evaluate the performance of a classification model by creating a confusion matrix.\n",
    "\n",
    "The confusion matrix is a table that summarizes the model's performance by categorizing the data points based on actual and predicted labels. It typically looks like this:\n",
    "        \n",
    "           Predicted\n",
    "    \n",
    "     |     0     |     1\n",
    "-----|-----------|-----------\n",
    "Actual|     0     |     TP    |   FN\n",
    "-----|-----------|-----------\n",
    "     |     1     |     FP    |   TN\n",
    "-----|-----------|-----------\n",
    "\n",
    "\n",
    "    TP (True Positive): Correctly predicted positive cases (e.g., correctly predicted survived).\n",
    "    \n",
    "    TN (True Negative): Correctly predicted negative cases (e.g., correctly predicted not survived).\n",
    "\n",
    "    FP (False Positive): Incorrectly predicted positive cases (e.g., predicted survived but actually not).\n",
    "    \n",
    "    FN (False Negative): Incorrectly predicted negative cases (e.g., predicted not survived but actually survived).\n",
    "\n",
    "- accuracy = confusion_matrix(y_test, predictions)\n",
    "\n",
    "This line calculates the confusion matrix (accuracy) using the actual labels (y_test) and the model's predictions. The confusion matrix is a table that summarizes the number of correct and incorrect predictions for each class (survived/not survived) in this case.\n",
    "\n",
    "- print(accuracy)\n",
    "\n",
    "This line prints the resulting confusion matrix, which you might not see displayed within the code itself but would be shown in the output. Analyzing the confusion matrix can reveal details about the model's performance, such as the number of true positives, false positives, true negatives, and false negatives.\n",
    "\n",
    "- from sklearn.metrics import accuracy_score\n",
    "\n",
    "This line imports the accuracy_score function from the sklearn.metrics module. This function calculates the overall accuracy of a classification model.\n",
    "\n",
    "- accuracy = accuracy_score(y_test, predictions)  print(accuracy)\n",
    "\n",
    "This line calculates the accuracy of the model (accuracy_score) by comparing the actual labels (y_test) with the model's predictions. The result is printed, representing the percentage of correct predictions made by the model on the testing set.\n",
    "\n",
    "* Accuracy = (TP + TN) / Total Number of Samples\n",
    "  The result is stored in the variable accuracy."
   ]
  },
  {
   "cell_type": "markdown",
   "id": "13c2f7c9",
   "metadata": {},
   "source": [
    "### Evaluation:\n",
    "\n",
    "Now, we can check precision,recall,f1-score using classification report!"
   ]
  },
  {
   "cell_type": "code",
   "execution_count": null,
   "id": "4b683587",
   "metadata": {},
   "outputs": [],
   "source": [
    "from sklearn.metrics import classification_report"
   ]
  },
  {
   "cell_type": "markdown",
   "id": "65c5e9f0",
   "metadata": {},
   "source": [
    "* The line from sklearn.metrics import classification_report imports the classification_report function from the sklearn.metrics module in Python. This function is specifically designed to evaluate the performance of classification machine learning models.\n",
    "\n",
    "###### Benefits of Using classification_report:\n",
    "\n",
    "* Provides a comprehensive overview of your model's performance beyond just accuracy.\n",
    "* Helps identify potential weaknesses in your model by highlighting classes where precision, recall, or F1-score might be low.\n",
    "* Offers insights into class imbalances if your dataset has uneven distributions of classes."
   ]
  },
  {
   "cell_type": "code",
   "execution_count": null,
   "id": "3e96f6f4",
   "metadata": {},
   "outputs": [],
   "source": [
    "print(classification_report(Y_test,predictions))"
   ]
  },
  {
   "cell_type": "markdown",
   "id": "276f905c",
   "metadata": {},
   "source": [
    "- The line print(classification_report(y_test, predictions)) displays a detailed performance evaluation of your Logistic Regression model for the Titanic passenger survival prediction task. Here's a breakdown of what it does:\n",
    "\n",
    "- Function:\n",
    "classification_report: This function, imported from sklearn.metrics, is used to generate a comprehensive report on a classification model's performance.\n",
    "\n",
    "###### Example Interpretation:\n",
    "\n",
    "Imagine the report shows high precision for the \"survived\" class but lower recall. This suggests the model might be good at avoiding false positives (incorrectly predicting survival), but it might miss some actual survivors (low recall). This could be a starting point for further investigation and model optimization.\n",
    "\n",
    "By analyzing the classification report generated by this line, you gain valuable insights into how well your model generalizes to unseen data and classifies passenger survival outcomes in the Titanic dataset."
   ]
  },
  {
   "cell_type": "code",
   "execution_count": null,
   "id": "2d059dd7",
   "metadata": {},
   "outputs": [],
   "source": [
    "from sklearn.linear_model import LogisticRegression\n",
    "from sklearn.preprocessing import StandardScaler\n",
    "from sklearn.metrics import confusion_matrix, accuracy_score\n",
    "import seaborn as sns\n",
    "import matplotlib.pyplot as plt  # Still needed for basic plot elements\n",
    "\n",
    "# ... your existing code for data loading, train-test split, etc.\n",
    "\n",
    "# Standardize features\n",
    "scaler = StandardScaler()\n",
    "X_train_scaled = scaler.fit_transform(X_train)\n",
    "X_test_scaled = scaler.transform(X_test)\n",
    "\n",
    "# Create and train the Logistic Regression model\n",
    "logmodel = LogisticRegression()\n",
    "logmodel.fit(X_train_scaled, Y_train)\n",
    "\n",
    "# Make predictions on the test set\n",
    "predictions = logmodel.predict(X_test_scaled)\n",
    "\n",
    "# Calculate accuracy\n",
    "accuracy = accuracy_score(Y_test, predictions)\n",
    "print(\"Accuracy:\", accuracy)\n",
    "\n",
    "# Confusion matrix with heatmap visualization using Seaborn\n",
    "cm = confusion_matrix(Y_test, predictions)\n",
    "ax = sns.heatmap(cm, annot=True, fmt=\"d\")  # d: integer format for counts in heatmap\n",
    "\n",
    "# Add labels and title for clarity\n",
    "ax.set_xlabel('Predicted Label')\n",
    "ax.set_ylabel('True Label')\n",
    "ax.set_title('Confusion Matrix - Logistic Regression')\n",
    "\n",
    "# Rotate x-axis labels for better readability (optional)\n",
    "plt.xticks(rotation=90)\n",
    "plt.show()\n"
   ]
  },
  {
   "cell_type": "code",
   "execution_count": null,
   "id": "4772e153",
   "metadata": {},
   "outputs": [],
   "source": [
    "from sklearn.linear_model import LogisticRegression\n",
    "from sklearn.preprocessing import StandardScaler\n",
    "from sklearn.metrics import confusion_matrix, accuracy_score\n",
    "import matplotlib.pyplot as plt \n",
    "\n",
    "# Standardize features\n",
    "scaler = StandardScaler()\n",
    "X_train_scaled = scaler.fit_transform(X_train)\n",
    "X_test_scaled = scaler.transform(X_test)\n",
    "\n",
    "# Create and train the Logistic Regression model\n",
    "logmodel = LogisticRegression()\n",
    "logmodel.fit(X_train_scaled, Y_train)\n",
    "\n",
    "# Make predictions on the test set\n",
    "predictions = logmodel.predict(X_test_scaled)\n",
    "\n",
    "# Calculate accuracy\n",
    "accuracy = accuracy_score(Y_test, predictions)\n",
    "print(\"Accuracy:\", accuracy)\n",
    "\n",
    "# Plot the accuracy (simple bar plot)\n",
    "plt.bar(['Test Accuracy'], [accuracy],color='green')\n",
    "plt.xlabel('Data Split')\n",
    "plt.ylabel('Accuracy')\n",
    "plt.title('Logistic Regression Accuracy')\n",
    "plt.show()"
   ]
  },
  {
   "cell_type": "code",
   "execution_count": null,
   "id": "5d195e8f",
   "metadata": {},
   "outputs": [],
   "source": []
  }
 ],
 "metadata": {
  "kernelspec": {
   "display_name": "Python 3 (ipykernel)",
   "language": "python",
   "name": "python3"
  },
  "language_info": {
   "codemirror_mode": {
    "name": "ipython",
    "version": 3
   },
   "file_extension": ".py",
   "mimetype": "text/x-python",
   "name": "python",
   "nbconvert_exporter": "python",
   "pygments_lexer": "ipython3",
   "version": "3.11.5"
  }
 },
 "nbformat": 4,
 "nbformat_minor": 5
}
